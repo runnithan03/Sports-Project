{
  "nbformat": 4,
  "nbformat_minor": 0,
  "metadata": {
    "colab": {
      "provenance": [],
      "authorship_tag": "ABX9TyNTCwckTuQRmSup+1awJVGp",
      "include_colab_link": true
    },
    "kernelspec": {
      "name": "python3",
      "display_name": "Python 3"
    },
    "language_info": {
      "name": "python"
    }
  },
  "cells": [
    {
      "cell_type": "markdown",
      "metadata": {
        "id": "view-in-github",
        "colab_type": "text"
      },
      "source": [
        "<a href=\"https://colab.research.google.com/github/runnithan03/Sports-Project/blob/main/Analysis.ipynb\" target=\"_parent\"><img src=\"https://colab.research.google.com/assets/colab-badge.svg\" alt=\"Open In Colab\"/></a>"
      ]
    },
    {
      "cell_type": "markdown",
      "source": [
        "Data Collection\n"
      ],
      "metadata": {
        "id": "XZWJYFsmlSuL"
      }
    },
    {
      "cell_type": "code",
      "execution_count": null,
      "metadata": {
        "collapsed": true,
        "id": "K0ZQdLHWlHsu"
      },
      "outputs": [],
      "source": [
        "import pandas as pd\n",
        "\n",
        "# Load dataset (replace with the actual dataset path)\n",
        "df = pd.read_csv('rugby_dataset.csv')\n",
        "\n",
        "# Display first few rows to understand the data structure\n",
        "print(df.head())\n"
      ]
    },
    {
      "cell_type": "markdown",
      "source": [
        "Data Preprocessing and Analysis"
      ],
      "metadata": {
        "id": "AdGhCM14lbYt"
      }
    },
    {
      "cell_type": "code",
      "source": [
        "import numpy as np\n",
        "import matplotlib.pyplot as plt\n",
        "\n",
        "# Fill missing values\n",
        "df.fillna(df.mean(), inplace=True)\n",
        "\n",
        "# Basic statistics\n",
        "print(df.describe())\n",
        "\n",
        "# Visualize key features (e.g., player performance over time)\n",
        "plt.figure(figsize=(10, 6))\n",
        "plt.plot(df['match_date'], df['performance_score'], label='Performance Score')\n",
        "plt.xlabel('Match Date')\n",
        "plt.ylabel('Performance Score')\n",
        "plt.title('Player Performance Over Time')\n",
        "plt.legend()\n",
        "plt.show()\n"
      ],
      "metadata": {
        "id": "QG19fr_8ldGN"
      },
      "execution_count": null,
      "outputs": []
    },
    {
      "cell_type": "markdown",
      "source": [
        "Feature Engineering"
      ],
      "metadata": {
        "id": "4X2deXWylfA8"
      }
    },
    {
      "cell_type": "code",
      "source": [
        "# Creating a moving average of the performance score\n",
        "df['performance_moving_avg'] = df['performance_score'].rolling(window=5).mean()\n",
        "\n",
        "# Display updated DataFrame\n",
        "print(df.head())\n"
      ],
      "metadata": {
        "id": "KobDNdJplhGD"
      },
      "execution_count": null,
      "outputs": []
    },
    {
      "cell_type": "markdown",
      "source": [
        "Model Building"
      ],
      "metadata": {
        "id": "6dyRAvIQlliT"
      }
    },
    {
      "cell_type": "code",
      "source": [
        "from sklearn.model_selection import train_test_split\n",
        "from sklearn.ensemble import RandomForestRegressor\n",
        "from sklearn.metrics import mean_absolute_error\n",
        "\n",
        "# Define features (X) and target variable (y)\n",
        "features = ['performance_moving_avg', 'opponent_strength', 'home_away_flag']  # Replace with relevant features from your dataset\n",
        "X = df[features]\n",
        "y = df['performance_score']\n",
        "\n",
        "# Split data into training and testing sets\n",
        "X_train, X_test, y_train, y_test = train_test_split(X, y, test_size=0.2, random_state=42)\n",
        "\n",
        "# Initialize and train the model\n",
        "model = RandomForestRegressor(n_estimators=100, random_state=42)\n",
        "model.fit(X_train, y_train)\n",
        "\n",
        "# Make predictions\n",
        "y_pred = model.predict(X_test)\n",
        "\n",
        "# Evaluate the model\n",
        "mae = mean_absolute_error(y_test, y_pred)\n",
        "print(f\"Mean Absolute Error: {mae}\")\n"
      ],
      "metadata": {
        "id": "AC8x2U20lmt8"
      },
      "execution_count": null,
      "outputs": []
    },
    {
      "cell_type": "markdown",
      "source": [
        "Evaluation and Visualisation"
      ],
      "metadata": {
        "id": "fdRgO3GPloOw"
      }
    },
    {
      "cell_type": "code",
      "source": [
        "# Plot actual vs. predicted values\n",
        "plt.figure(figsize=(10, 6))\n",
        "plt.scatter(y_test, y_pred, alpha=0.6)\n",
        "plt.xlabel('Actual Performance')\n",
        "plt.ylabel('Predicted Performance')\n",
        "plt.title('Actual vs Predicted Performance')\n",
        "plt.show()\n"
      ],
      "metadata": {
        "id": "Q7yqeHl2lq9L"
      },
      "execution_count": null,
      "outputs": []
    },
    {
      "cell_type": "markdown",
      "source": [
        "UI (Optional)"
      ],
      "metadata": {
        "id": "TzSZIaIMlxSS"
      }
    },
    {
      "cell_type": "code",
      "source": [
        "# Save this part as app.py\n",
        "import streamlit as st\n",
        "\n",
        "# Load model (you can save the trained model and load it here if needed)\n",
        "model = RandomForestRegressor(n_estimators=100, random_state=42)\n",
        "model.fit(X_train, y_train)\n",
        "\n",
        "# Streamlit app\n",
        "st.title('Rugby Performance Predictor')\n",
        "\n",
        "# User input for prediction\n",
        "moving_avg = st.number_input('Performance Moving Average', min_value=0.0, max_value=100.0, value=50.0)\n",
        "opponent_strength = st.slider('Opponent Strength (1-10)', 1, 10, 5)\n",
        "home_away_flag = st.selectbox('Home or Away', ['Home', 'Away'])\n",
        "\n",
        "# Encode input\n",
        "home_away_encoded = 1 if home_away_flag == 'Home' else 0\n",
        "\n",
        "# Prediction\n",
        "input_data = np.array([[moving_avg, opponent_strength, home_away_encoded]])\n",
        "prediction = model.predict(input_data)\n",
        "\n",
        "st.write(f'Predicted Performance Score: {prediction[0]:.2f}')\n"
      ],
      "metadata": {
        "id": "8zljc_a_lyuU"
      },
      "execution_count": null,
      "outputs": []
    }
  ]
}